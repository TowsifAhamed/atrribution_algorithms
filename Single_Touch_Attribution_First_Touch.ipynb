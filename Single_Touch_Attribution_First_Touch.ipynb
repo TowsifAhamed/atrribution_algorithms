{
  "nbformat": 4,
  "nbformat_minor": 0,
  "metadata": {
    "colab": {
      "provenance": []
    },
    "kernelspec": {
      "name": "python3",
      "display_name": "Python 3"
    },
    "language_info": {
      "name": "python"
    }
  },
  "cells": [
    {
      "cell_type": "markdown",
      "source": [
        "### Attribution in Marketing\n",
        "\n",
        "**Attribution** in marketing refers to the process of identifying and assigning value to the different touchpoints a customer interacts with on their journey towards a conversion or sale. These touchpoints could include various channels like email campaigns, social media ads, website visits, and more.\n",
        "\n",
        "**Why is Attribution Important?**\n",
        "\n",
        "Attribution helps marketers understand the effectiveness of their marketing strategies and campaigns by determining which channels and interactions are driving conversions. This insight allows businesses to:\n",
        "\n",
        "1. **Optimize Marketing Spend**: By identifying the most effective channels, marketers can allocate their budget more efficiently.\n",
        "2. **Improve Campaign Performance**: Understanding which touchpoints contribute to conversions helps in refining strategies to enhance performance.\n",
        "3. **Measure ROI**: Attribution provides a clear view of the return on investment (ROI) for different marketing activities.\n",
        "4. **Enhance Customer Experience**: By analyzing customer journeys, marketers can improve the overall customer experience and engagement.\n",
        "\n",
        "### Types of Attribution Models\n",
        "\n",
        "Attribution models can be broadly classified into **single-touch** and **multi-touch** models. Each model offers a different way of distributing credit to touchpoints.\n",
        "\n",
        "#### **Single-Touch Attribution**\n",
        "\n",
        "1. **First-Touch Attribution**\n",
        "   - **Definition**: Assigns 100% of the conversion credit to the first interaction a customer has with your brand.\n",
        "   - **Pros**: Simple and straightforward. Useful for understanding initial engagement.\n",
        "   - **Cons**: Ignores subsequent interactions that might also play significant roles.\n",
        "   - **Use Case**: Ideal for campaigns focused on generating awareness and attracting new customers.\n",
        "\n",
        "2. **Last-Touch Attribution**\n",
        "   - **Definition**: Assigns 100% of the conversion credit to the last interaction before the conversion.\n",
        "   - **Pros**: Highlights the final interaction that triggered the conversion.\n",
        "   - **Cons**: Disregards earlier touchpoints that contributed to the journey.\n",
        "   - **Use Case**: Useful for campaigns aimed at closing sales or conversions.\n",
        "\n",
        "#### **Multi-Touch Attribution**\n",
        "\n",
        "Multi-touch attribution models distribute the credit across multiple interactions, providing a more comprehensive view of the customer journey.\n",
        "\n",
        "1. **Linear Attribution**\n",
        "   - **Definition**: Distributes the credit equally across all touchpoints leading up to the conversion.\n",
        "   - **Pros**: Simple to implement and provides a balanced view.\n",
        "   - **Cons**: Does not differentiate the impact of each touchpoint.\n",
        "   - **Use Case**: Useful when all interactions are believed to contribute equally to the conversion.\n",
        "\n",
        "2. **Time-Decay Attribution**\n",
        "   - **Definition**: Gives more credit to interactions that occurred closer to the conversion time.\n",
        "   - **Pros**: Acknowledges that touchpoints nearer to the conversion may have a higher impact.\n",
        "   - **Cons**: Can undervalue earlier interactions.\n",
        "   - **Use Case**: Ideal for longer sales cycles where the influence of touchpoints increases as the customer gets closer to converting.\n",
        "\n",
        "3. **Position-Based (U-Shaped) Attribution**\n",
        "   - **Definition**: Assigns 40% of the credit to the first and last interactions, and the remaining 20% is distributed evenly among the middle touchpoints.\n",
        "   - **Pros**: Balances the importance of first and last interactions while still giving some credit to the middle.\n",
        "   - **Cons**: Can be complex to calculate and may still undervalue some touchpoints.\n",
        "   - **Use Case**: Suitable for campaigns where both the first engagement and the closing touchpoint are crucial.\n",
        "\n",
        "### Summary\n",
        "\n",
        "- **Attribution** is the practice of understanding which marketing interactions contribute to conversions.\n",
        "- **Importance**: It helps in optimizing marketing spend, improving campaign performance, measuring ROI, and enhancing customer experience.\n",
        "- **Models**: There are single-touch models like First-Touch and Last-Touch, and multi-touch models like Linear, Time-Decay, Position-Based, and Data-Driven Attribution. Each model has its advantages and use cases depending on the marketing objectives and customer journey complexity."
      ],
      "metadata": {
        "id": "hxkppYTalMsA"
      }
    },
    {
      "cell_type": "markdown",
      "source": [
        "Creating Randomised Datasets"
      ],
      "metadata": {
        "id": "FsYMhzOXeBbD"
      }
    },
    {
      "cell_type": "code",
      "execution_count": 12,
      "metadata": {
        "colab": {
          "base_uri": "https://localhost:8080/"
        },
        "id": "HnIh8OYtX0wg",
        "outputId": "ae1a02b9-f206-4b92-b522-ea6ddd33d337"
      },
      "outputs": [
        {
          "output_type": "stream",
          "name": "stdout",
          "text": [
            "Activity Data\n",
            "      CustomerID              Event                          Date\n",
            "0            103  Signup Newsletter 2023-10-16 09:41:17.081846279\n",
            "1            436        Watch Video 2023-04-30 23:54:30.961011074\n",
            "2            861        Watch Video 2023-07-01 09:24:29.787375890\n",
            "3            271      Visit Website 2023-04-17 14:37:05.142324289\n",
            "4            107      Visit Website 2023-10-01 17:03:54.850574933\n",
            "...          ...                ...                           ...\n",
            "4995         290       Download App 2023-10-08 03:48:22.871559789\n",
            "4996         295      Visit Website 2023-12-22 22:06:05.925943536\n",
            "4997         451        Watch Video 2023-12-23 09:33:49.894217929\n",
            "4998         904       Download App 2023-02-08 17:13:56.745944572\n",
            "4999         215        Watch Video 2023-01-24 04:36:52.221262943\n",
            "\n",
            "[5000 rows x 3 columns]\n",
            "\n",
            "Target Data\n",
            "     CustomerID  TargetAmount                    TargetDate\n",
            "0           103            80 2023-08-30 12:16:23.561984827\n",
            "1           436            68 2023-12-03 15:34:10.558684038\n",
            "2           861            95 2023-11-20 17:38:39.513948195\n",
            "3           271            37 2023-10-31 05:08:23.612166163\n",
            "4           107            75 2023-11-22 21:34:28.458311431\n",
            "..          ...           ...                           ...\n",
            "207         171            57 2023-07-19 09:12:17.633253364\n",
            "208         541            48 2023-10-04 11:48:18.452089292\n",
            "209          36            51 2023-08-31 20:17:02.642813679\n",
            "210         525            35 2023-04-19 08:50:12.097436556\n",
            "211         160            59 2023-06-14 14:21:16.994461218\n",
            "\n",
            "[212 rows x 3 columns]\n"
          ]
        }
      ],
      "source": [
        "import pandas as pd\n",
        "import numpy as np\n",
        "\n",
        "# Constants\n",
        "N_CUSTOMERS = 1000\n",
        "N_EVENTS = 5000\n",
        "N_TARGETS = np.random.randint(200, 301)  # Number of target rows between 200 and 300\n",
        "EVENTS = ['Visit Website', 'Click Ad', 'Signup Newsletter', 'Download App', 'Watch Video']\n",
        "START_DATE = '2023-01-01'\n",
        "END_DATE = '2023-12-31'\n",
        "\n",
        "# Generate random activity data\n",
        "def generate_activity_data(n_customers, n_events, events, start_date, end_date):\n",
        "    np.random.seed(42)\n",
        "    # Randomly assign customers to events\n",
        "    customer_ids = np.random.randint(1, n_customers + 1, n_events)\n",
        "    # Randomly choose events\n",
        "    event_choices = np.random.choice(events, n_events)\n",
        "    # Randomly generate dates\n",
        "    dates = pd.to_datetime(np.random.randint(pd.Timestamp(start_date).value,\n",
        "                                             pd.Timestamp(end_date).value,\n",
        "                                             n_events))\n",
        "    # Create DataFrame\n",
        "    activity_data = pd.DataFrame({\n",
        "        'CustomerID': customer_ids,\n",
        "        'Event': event_choices,\n",
        "        'Date': dates\n",
        "    })\n",
        "    return activity_data\n",
        "\n",
        "# Generate random target data\n",
        "def generate_target_data(n_customers, n_targets, start_date, end_date):\n",
        "    np.random.seed(42)\n",
        "    # Randomly select a subset of customers\n",
        "    customer_ids = np.random.choice(np.arange(1, n_customers + 1), n_targets)\n",
        "    # Generate random target amounts between $10 and $100\n",
        "    target_amounts = np.random.randint(10, 100, size=n_targets)\n",
        "    # Randomly generate target dates\n",
        "    target_dates = pd.to_datetime(np.random.randint(pd.Timestamp(start_date).value,\n",
        "                                                    pd.Timestamp(end_date).value,\n",
        "                                                    n_targets))\n",
        "    # Create DataFrame\n",
        "    target_data = pd.DataFrame({\n",
        "        'CustomerID': customer_ids,\n",
        "        'TargetAmount': target_amounts,\n",
        "        'TargetDate': target_dates\n",
        "    })\n",
        "    return target_data\n",
        "\n",
        "# Generate the datasets\n",
        "activity_data = generate_activity_data(N_CUSTOMERS, N_EVENTS, EVENTS, START_DATE, END_DATE)\n",
        "target_data = generate_target_data(N_CUSTOMERS, N_TARGETS, START_DATE, END_DATE)\n",
        "\n",
        "# Display datasets\n",
        "print(\"Activity Data\")\n",
        "print(activity_data)\n",
        "print(\"\\nTarget Data\")\n",
        "print(target_data)\n"
      ]
    },
    {
      "cell_type": "code",
      "source": [
        "# Check for multiple events per customer\n",
        "print(activity_data['CustomerID'].value_counts())\n",
        "\n",
        "# Check for multiple targets per customer\n",
        "print(target_data['CustomerID'].value_counts())\n"
      ],
      "metadata": {
        "colab": {
          "base_uri": "https://localhost:8080/"
        },
        "id": "WX-tr5-KYE7g",
        "outputId": "2b4cb0a4-3c7c-4d9e-bd35-c6b85b8f1799"
      },
      "execution_count": 13,
      "outputs": [
        {
          "output_type": "stream",
          "name": "stdout",
          "text": [
            "CustomerID\n",
            "664    14\n",
            "929    12\n",
            "39     12\n",
            "936    12\n",
            "113    12\n",
            "       ..\n",
            "110     1\n",
            "979     1\n",
            "189     1\n",
            "368     1\n",
            "528     1\n",
            "Name: count, Length: 989, dtype: int64\n",
            "CustomerID\n",
            "958    3\n",
            "872    3\n",
            "41     2\n",
            "131    2\n",
            "15     2\n",
            "      ..\n",
            "92     1\n",
            "367    1\n",
            "455    1\n",
            "428    1\n",
            "160    1\n",
            "Name: count, Length: 192, dtype: int64\n"
          ]
        }
      ]
    },
    {
      "cell_type": "markdown",
      "source": [
        "Customer Journies (Merging Event and Target Datasets)"
      ],
      "metadata": {
        "id": "Mt0JHcUqeIl3"
      }
    },
    {
      "cell_type": "code",
      "source": [
        "# Merge activity and target data\n",
        "# Add a column to distinguish events from targets\n",
        "activity_data['Type'] = 'Event'\n",
        "target_data['Type'] = 'Target'\n",
        "target_data.rename(columns={'TargetAmount': 'Amount', 'TargetDate': 'Date'}, inplace=True)\n",
        "activity_data['Amount'] = np.nan\n",
        "\n",
        "# Combine both datasets\n",
        "combined_data = pd.concat([activity_data, target_data], ignore_index=True)\n",
        "\n",
        "# Sort by CustomerID and Date\n",
        "combined_data_sorted = combined_data.sort_values(by=['CustomerID', 'Date'])\n",
        "\n",
        "print(combined_data_sorted)\n",
        "\n",
        "# Create customer journey dictionary\n",
        "customer_journeys = {}\n",
        "for customer_id, group in combined_data_sorted.groupby('CustomerID'):\n",
        "    journey = []\n",
        "    for _, row in group.iterrows():\n",
        "        if row['Type'] == 'Event':\n",
        "            journey.append((row['Date'], row['Event']))\n",
        "        elif row['Type'] == 'Target':\n",
        "            journey.append((row['Date'], 'Target', row['Amount']))\n",
        "    customer_journeys[customer_id] = journey"
      ],
      "metadata": {
        "colab": {
          "base_uri": "https://localhost:8080/"
        },
        "id": "mCU5tWHdYW5E",
        "outputId": "dd020869-1f12-473b-f59a-36893369c4cb"
      },
      "execution_count": 15,
      "outputs": [
        {
          "output_type": "stream",
          "name": "stdout",
          "text": [
            "      CustomerID              Event                          Date   Type  \\\n",
            "1357           1       Download App 2023-03-05 23:45:23.459254458  Event   \n",
            "4234           1  Signup Newsletter 2023-03-16 19:16:09.105778464  Event   \n",
            "4511           1      Visit Website 2023-03-18 11:16:27.404361226  Event   \n",
            "1049           1       Download App 2023-03-25 07:59:29.359660428  Event   \n",
            "897            1  Signup Newsletter 2023-04-21 08:04:00.525932378  Event   \n",
            "...          ...                ...                           ...    ...   \n",
            "759          999       Download App 2023-03-14 18:46:04.627417538  Event   \n",
            "3123         999           Click Ad 2023-06-10 18:54:29.486619924  Event   \n",
            "4798         999           Click Ad 2023-08-30 03:44:13.632851925  Event   \n",
            "631          999        Watch Video 2023-12-12 11:24:34.621862321  Event   \n",
            "3741        1000  Signup Newsletter 2023-07-26 22:47:50.662755516  Event   \n",
            "\n",
            "      Amount  \n",
            "1357     NaN  \n",
            "4234     NaN  \n",
            "4511     NaN  \n",
            "1049     NaN  \n",
            "897      NaN  \n",
            "...      ...  \n",
            "759      NaN  \n",
            "3123     NaN  \n",
            "4798     NaN  \n",
            "631      NaN  \n",
            "3741     NaN  \n",
            "\n",
            "[5212 rows x 5 columns]\n"
          ]
        }
      ]
    },
    {
      "cell_type": "code",
      "source": [
        "# Example: Print the journey for customer 592\n",
        "customer_id_example = 131\n",
        "print(f\"Customer {customer_id_example} Journey:\")\n",
        "for entry in customer_journeys.get(customer_id_example, []):\n",
        "    print(entry)"
      ],
      "metadata": {
        "colab": {
          "base_uri": "https://localhost:8080/"
        },
        "id": "8OFJdNElcB61",
        "outputId": "cd105029-8024-434c-f836-3bb03991f582"
      },
      "execution_count": 17,
      "outputs": [
        {
          "output_type": "stream",
          "name": "stdout",
          "text": [
            "Customer 131 Journey:\n",
            "(Timestamp('2023-01-20 06:47:08.540925130'), 'Signup Newsletter')\n",
            "(Timestamp('2023-03-11 05:49:41.469664800'), 'Watch Video')\n",
            "(Timestamp('2023-03-13 12:14:13.491732238'), 'Target', 10.0)\n",
            "(Timestamp('2023-03-29 19:16:36.754803610'), 'Visit Website')\n",
            "(Timestamp('2023-06-01 10:13:02.285062530'), 'Signup Newsletter')\n",
            "(Timestamp('2023-06-28 04:26:51.066969002'), 'Download App')\n",
            "(Timestamp('2023-08-13 14:44:10.782534723'), 'Visit Website')\n",
            "(Timestamp('2023-08-22 10:44:08.631152442'), 'Download App')\n",
            "(Timestamp('2023-09-21 17:33:43.437923570'), 'Click Ad')\n",
            "(Timestamp('2023-12-22 18:17:59.684139101'), 'Target', 99.0)\n"
          ]
        }
      ]
    },
    {
      "cell_type": "markdown",
      "source": [
        "Single-Touch Attribution:  First-Touch\n",
        "\n",
        "Attributes the entire conversion value to the first interaction.\n",
        "\n",
        "Last-Touch: Attributes the entire conversion value to the last interaction.\n",
        "Multi-Touch Attribution:"
      ],
      "metadata": {
        "id": "Ox5-KFaDeTvH"
      }
    },
    {
      "cell_type": "code",
      "source": [
        "# Calculate First-Touch Attribution\n",
        "attribution = []\n",
        "\n",
        "# Iterate through each customer's journey\n",
        "for customer_id, journey in customer_journeys.items():\n",
        "    # Iterate through each step in the journey\n",
        "    for i, entry in enumerate(journey):\n",
        "        if isinstance(entry, tuple) and entry[1] == 'Target':\n",
        "            # Find the first event before this target\n",
        "            for j in range(i):\n",
        "                if isinstance(journey[j], tuple) and journey[j][1] != 'Target':\n",
        "                    attribution.append((journey[j][1], entry[2]))\n",
        "                    break\n",
        "\n",
        "# Convert attribution results to DataFrame\n",
        "attribution_df = pd.DataFrame(attribution, columns=['Event', 'TargetAmount'])\n",
        "\n",
        "# Sum the target amounts for each event\n",
        "attribution_result = attribution_df.groupby('Event')['TargetAmount'].sum().reset_index()\n",
        "\n",
        "# Display the attribution result\n",
        "print(\"Attribution Result\")\n",
        "print(attribution_result)"
      ],
      "metadata": {
        "colab": {
          "base_uri": "https://localhost:8080/"
        },
        "id": "TtBkTyKIcRE0",
        "outputId": "0452ce2b-a57a-496b-8220-b6d7148ea127"
      },
      "execution_count": 21,
      "outputs": [
        {
          "output_type": "stream",
          "name": "stdout",
          "text": [
            "Attribution Result\n",
            "               Event  TargetAmount\n",
            "0           Click Ad        2026.0\n",
            "1       Download App        1504.0\n",
            "2  Signup Newsletter        1536.0\n",
            "3      Visit Website        2661.0\n",
            "4        Watch Video        2013.0\n"
          ]
        }
      ]
    },
    {
      "cell_type": "markdown",
      "source": [
        "Introducing 'Miscellaneous' as there could be conversion without any events"
      ],
      "metadata": {
        "id": "g4zzFIDfhboO"
      }
    },
    {
      "cell_type": "code",
      "source": [
        "# Calculate First-Touch Attribution with Miscellaneous handling\n",
        "attribution = []\n",
        "\n",
        "# Iterate through each customer's journey\n",
        "for customer_id, journey in customer_journeys.items():\n",
        "    # Initialize flag to check if any event was found before target\n",
        "    found_event = False\n",
        "    for i, entry in enumerate(journey):\n",
        "        if isinstance(entry, tuple) and entry[1] == 'Target':\n",
        "            # Reset the flag for each target\n",
        "            found_event = False\n",
        "            # Find the first event before this target\n",
        "            for j in range(i):\n",
        "                if isinstance(journey[j], tuple) and journey[j][1] != 'Target':\n",
        "                    attribution.append((journey[j][1], entry[2]))\n",
        "                    found_event = True\n",
        "                    break\n",
        "            # If no event was found before this target, assign to Miscellaneous\n",
        "            if not found_event:\n",
        "                attribution.append(('Miscellaneous', entry[2]))\n",
        "\n",
        "# Convert attribution results to DataFrame\n",
        "attribution_df = pd.DataFrame(attribution, columns=['Event', 'TargetAmount'])\n",
        "\n",
        "# Sum the target amounts for each event\n",
        "attribution_result = attribution_df.groupby('Event')['TargetAmount'].sum().reset_index()\n",
        "\n",
        "# Display the attribution result\n",
        "print(\"Attribution Result\")\n",
        "print(attribution_result)"
      ],
      "metadata": {
        "colab": {
          "base_uri": "https://localhost:8080/"
        },
        "id": "VGr-ZgRKhG_5",
        "outputId": "3dfdcd65-0328-425d-8124-b136dd27edef"
      },
      "execution_count": 22,
      "outputs": [
        {
          "output_type": "stream",
          "name": "stdout",
          "text": [
            "Attribution Result\n",
            "               Event  TargetAmount\n",
            "0           Click Ad        2026.0\n",
            "1       Download App        1504.0\n",
            "2      Miscellaneous        1434.0\n",
            "3  Signup Newsletter        1536.0\n",
            "4      Visit Website        2661.0\n",
            "5        Watch Video        2013.0\n"
          ]
        }
      ]
    },
    {
      "cell_type": "markdown",
      "source": [
        "Evaluate Result"
      ],
      "metadata": {
        "id": "hJMOO5b6hKq_"
      }
    },
    {
      "cell_type": "code",
      "source": [
        "# Evaluate the result\n",
        "# Sum the target amounts from the target_data\n",
        "total_target_amount = target_data['Amount'].sum()\n",
        "\n",
        "# Sum the target amounts from the attribution_result\n",
        "total_attributed_amount = attribution_result['TargetAmount'].sum()\n",
        "\n",
        "# Compare the sums\n",
        "print(f\"Total Target Amount from target_data: {total_target_amount}\")\n",
        "print(f\"Total Attributed Amount from attribution_result: {total_attributed_amount}\")\n",
        "\n",
        "# Check if the sums are equal\n",
        "if np.isclose(total_target_amount, total_attributed_amount):\n",
        "    print(\"The total target amount matches the total attributed amount.\")\n",
        "else:\n",
        "    print(\"There is a discrepancy between the total target amount and the total attributed amount.\")"
      ],
      "metadata": {
        "colab": {
          "base_uri": "https://localhost:8080/"
        },
        "id": "MGYw3rwBfsf3",
        "outputId": "810a41c0-7f98-4049-f401-c2ac90083fc6"
      },
      "execution_count": 23,
      "outputs": [
        {
          "output_type": "stream",
          "name": "stdout",
          "text": [
            "Total Target Amount from target_data: 11174\n",
            "Total Attributed Amount from attribution_result: 11174.0\n",
            "The total target amount matches the total attributed amount.\n"
          ]
        }
      ]
    },
    {
      "cell_type": "code",
      "source": [],
      "metadata": {
        "id": "bg3wReFOgHWT"
      },
      "execution_count": null,
      "outputs": []
    }
  ]
}